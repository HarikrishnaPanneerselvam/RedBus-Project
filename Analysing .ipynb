{
 "cells": [
  {
   "cell_type": "code",
   "execution_count": 1,
   "metadata": {},
   "outputs": [],
   "source": [
    "import pandas as pd\n",
    "import mysql.connector "
   ]
  },
  {
   "cell_type": "code",
   "execution_count": 2,
   "metadata": {},
   "outputs": [],
   "source": [
    "dfbus1=pd.read_csv(\"APSRTC_Bus_Details.csv\")\n",
    "dfbus2=pd.read_csv(\"ASTC_Bus_Details.csv\")\n",
    "dfbus3=pd.read_csv(\"BSRTC_Bus_Details.csv\")\n",
    "dfbus4=pd.read_csv(\"HRTC_Bus_Details.csv\")\n",
    "dfbus5=pd.read_csv(\"JKRTC_Bus_Details.csv\")\n",
    "dfbus6=pd.read_csv(\"KSRTC_Bus_Details.csv\")\n",
    "dfbus7=pd.read_csv(\"PEPSU_Bus_Details.csv\")\n",
    "dfbus8=pd.read_csv(\"SBSTC_Bus_Details.csv\")\n",
    "dfbus9=pd.read_csv(\"TSRTC_Bus_Details.csv\")\n",
    "dfbus10=pd.read_csv(\"WBTC_Bus_Details.csv\")"
   ]
  },
  {
   "cell_type": "code",
   "execution_count": 3,
   "metadata": {},
   "outputs": [
    {
     "data": {
      "text/html": [
       "<div>\n",
       "<style scoped>\n",
       "    .dataframe tbody tr th:only-of-type {\n",
       "        vertical-align: middle;\n",
       "    }\n",
       "\n",
       "    .dataframe tbody tr th {\n",
       "        vertical-align: top;\n",
       "    }\n",
       "\n",
       "    .dataframe thead th {\n",
       "        text-align: right;\n",
       "    }\n",
       "</style>\n",
       "<table border=\"1\" class=\"dataframe\">\n",
       "  <thead>\n",
       "    <tr style=\"text-align: right;\">\n",
       "      <th></th>\n",
       "      <th>Bus Name</th>\n",
       "      <th>Bus Type</th>\n",
       "      <th>From</th>\n",
       "      <th>To</th>\n",
       "      <th>Price</th>\n",
       "      <th>Starting Point</th>\n",
       "      <th>Ending Point</th>\n",
       "      <th>Seat Available</th>\n",
       "      <th>Start Time</th>\n",
       "      <th>Reach Time</th>\n",
       "      <th>Total Travel Time</th>\n",
       "      <th>Bus Rating</th>\n",
       "      <th>Links</th>\n",
       "    </tr>\n",
       "  </thead>\n",
       "  <tbody>\n",
       "    <tr>\n",
       "      <th>0</th>\n",
       "      <td>APSRTC - 2561</td>\n",
       "      <td>INDRA(A.C. Seater)</td>\n",
       "      <td>Hyderabad</td>\n",
       "      <td>Vijayawada</td>\n",
       "      <td>528.0</td>\n",
       "      <td>Central Bus Station (CBS</td>\n",
       "      <td>Rtc bus stand</td>\n",
       "      <td>22 Seats available</td>\n",
       "      <td>17:15</td>\n",
       "      <td>22:45</td>\n",
       "      <td>05h 30m</td>\n",
       "      <td>3.4</td>\n",
       "      <td>https://www.redbus.in/bus-tickets/hyderabad-to...</td>\n",
       "    </tr>\n",
       "    <tr>\n",
       "      <th>1</th>\n",
       "      <td>APSRTC - 2674</td>\n",
       "      <td>SUPER LUXURY (NON-AC, 2 + 2 PUSH BACK)</td>\n",
       "      <td>Hyderabad</td>\n",
       "      <td>Vijayawada</td>\n",
       "      <td>436.0</td>\n",
       "      <td>Jeedimetla</td>\n",
       "      <td>Rtc bus stand</td>\n",
       "      <td>17 Seats available</td>\n",
       "      <td>17:30</td>\n",
       "      <td>01:20</td>\n",
       "      <td>07h 50m</td>\n",
       "      <td>3.2</td>\n",
       "      <td>https://www.redbus.in/bus-tickets/hyderabad-to...</td>\n",
       "    </tr>\n",
       "    <tr>\n",
       "      <th>2</th>\n",
       "      <td>APSRTC - 3366</td>\n",
       "      <td>SUPER LUXURY (NON-AC, 2 + 2 PUSH BACK)</td>\n",
       "      <td>Hyderabad</td>\n",
       "      <td>Vijayawada</td>\n",
       "      <td>436.0</td>\n",
       "      <td>Kukatpally</td>\n",
       "      <td>Rtc bus stand</td>\n",
       "      <td>25 Seats available</td>\n",
       "      <td>17:55</td>\n",
       "      <td>01:45</td>\n",
       "      <td>07h 50m</td>\n",
       "      <td>2.4</td>\n",
       "      <td>https://www.redbus.in/bus-tickets/hyderabad-to...</td>\n",
       "    </tr>\n",
       "    <tr>\n",
       "      <th>3</th>\n",
       "      <td>APSRTC - 3360</td>\n",
       "      <td>AMARAVATHI (VOLVO / SCANIA A.C Multi Axle)</td>\n",
       "      <td>Hyderabad</td>\n",
       "      <td>Vijayawada</td>\n",
       "      <td>670.0</td>\n",
       "      <td>Kukatpally</td>\n",
       "      <td>Rtc bus stand</td>\n",
       "      <td>40 Seats available</td>\n",
       "      <td>18:25</td>\n",
       "      <td>01:30</td>\n",
       "      <td>07h 05m</td>\n",
       "      <td>2.6</td>\n",
       "      <td>https://www.redbus.in/bus-tickets/hyderabad-to...</td>\n",
       "    </tr>\n",
       "    <tr>\n",
       "      <th>4</th>\n",
       "      <td>APSRTC - 2575</td>\n",
       "      <td>NIGHT RIDER (SEATER CUM SLEEPER)</td>\n",
       "      <td>Hyderabad</td>\n",
       "      <td>Vijayawada</td>\n",
       "      <td>595.0</td>\n",
       "      <td>Kukatpally</td>\n",
       "      <td>Rtc bus stand</td>\n",
       "      <td>27 Seats available</td>\n",
       "      <td>18:55</td>\n",
       "      <td>01:15</td>\n",
       "      <td>06h 20m</td>\n",
       "      <td>3.8</td>\n",
       "      <td>https://www.redbus.in/bus-tickets/hyderabad-to...</td>\n",
       "    </tr>\n",
       "    <tr>\n",
       "      <th>...</th>\n",
       "      <td>...</td>\n",
       "      <td>...</td>\n",
       "      <td>...</td>\n",
       "      <td>...</td>\n",
       "      <td>...</td>\n",
       "      <td>...</td>\n",
       "      <td>...</td>\n",
       "      <td>...</td>\n",
       "      <td>...</td>\n",
       "      <td>...</td>\n",
       "      <td>...</td>\n",
       "      <td>...</td>\n",
       "      <td>...</td>\n",
       "    </tr>\n",
       "    <tr>\n",
       "      <th>397</th>\n",
       "      <td>SBSTC-BARASAT - DIGHA - VIA - NIBEDITA SETU - ...</td>\n",
       "      <td>Non AC Seater (2+3)</td>\n",
       "      <td>Barasat (West Be...</td>\n",
       "      <td>Nimtouri</td>\n",
       "      <td>93.0</td>\n",
       "      <td>BARASAT</td>\n",
       "      <td>NIMTOURI</td>\n",
       "      <td>49 Seats available</td>\n",
       "      <td>11:15</td>\n",
       "      <td>00:00</td>\n",
       "      <td>12h 45m</td>\n",
       "      <td>3.6</td>\n",
       "      <td>https://www.redbus.in/bus-tickets/barasat-west...</td>\n",
       "    </tr>\n",
       "    <tr>\n",
       "      <th>398</th>\n",
       "      <td>WBTC (CTC) Habra- Barasat- Haldia - 180|07:10</td>\n",
       "      <td>Non AC Seater (2+3)</td>\n",
       "      <td>Barasat (West Be...</td>\n",
       "      <td>Nimtouri</td>\n",
       "      <td>82.0</td>\n",
       "      <td>Champadally</td>\n",
       "      <td>Nimtouri</td>\n",
       "      <td>1 Seat available</td>\n",
       "      <td>07:10</td>\n",
       "      <td>08:45</td>\n",
       "      <td>01h 35m</td>\n",
       "      <td>4.6</td>\n",
       "      <td>https://www.redbus.in/bus-tickets/barasat-west...</td>\n",
       "    </tr>\n",
       "    <tr>\n",
       "      <th>399</th>\n",
       "      <td>WBTC (CTC) Habra-Midnapur - 194|05:25</td>\n",
       "      <td>Non AC Seater (2+3)</td>\n",
       "      <td>Habra</td>\n",
       "      <td>Midnapore</td>\n",
       "      <td>138.0</td>\n",
       "      <td>Habra</td>\n",
       "      <td>Midnapur</td>\n",
       "      <td>35 Seats available</td>\n",
       "      <td>05:25</td>\n",
       "      <td>09:35</td>\n",
       "      <td>04h 10m</td>\n",
       "      <td>4.5</td>\n",
       "      <td>https://www.redbus.in/bus-tickets/habra-to-mid...</td>\n",
       "    </tr>\n",
       "    <tr>\n",
       "      <th>400</th>\n",
       "      <td>WBTC (CTC) Habra-Midnapur - 194|05:55</td>\n",
       "      <td>Non AC Seater (2+3)</td>\n",
       "      <td>Habra</td>\n",
       "      <td>Midnapore</td>\n",
       "      <td>138.0</td>\n",
       "      <td>Habra</td>\n",
       "      <td>Midnapur</td>\n",
       "      <td>34 Seats available</td>\n",
       "      <td>05:55</td>\n",
       "      <td>10:15</td>\n",
       "      <td>04h 20m</td>\n",
       "      <td>4.3</td>\n",
       "      <td>https://www.redbus.in/bus-tickets/habra-to-mid...</td>\n",
       "    </tr>\n",
       "    <tr>\n",
       "      <th>401</th>\n",
       "      <td>SBSTC-HABRA - MIDNAPUR - 06:20 (MID DEPOT) - 1398</td>\n",
       "      <td>Non AC Seater (2+3)</td>\n",
       "      <td>Habra</td>\n",
       "      <td>Midnapore</td>\n",
       "      <td>143.0</td>\n",
       "      <td>HABRA</td>\n",
       "      <td>MIDNAPUR</td>\n",
       "      <td>40 Seats available</td>\n",
       "      <td>06:20</td>\n",
       "      <td>00:00</td>\n",
       "      <td>17h 40m</td>\n",
       "      <td>3.8</td>\n",
       "      <td>https://www.redbus.in/bus-tickets/habra-to-mid...</td>\n",
       "    </tr>\n",
       "  </tbody>\n",
       "</table>\n",
       "<p>3718 rows × 13 columns</p>\n",
       "</div>"
      ],
      "text/plain": [
       "                                              Bus Name  \\\n",
       "0                                        APSRTC - 2561   \n",
       "1                                        APSRTC - 2674   \n",
       "2                                        APSRTC - 3366   \n",
       "3                                        APSRTC - 3360   \n",
       "4                                        APSRTC - 2575   \n",
       "..                                                 ...   \n",
       "397  SBSTC-BARASAT - DIGHA - VIA - NIBEDITA SETU - ...   \n",
       "398      WBTC (CTC) Habra- Barasat- Haldia - 180|07:10   \n",
       "399              WBTC (CTC) Habra-Midnapur - 194|05:25   \n",
       "400              WBTC (CTC) Habra-Midnapur - 194|05:55   \n",
       "401  SBSTC-HABRA - MIDNAPUR - 06:20 (MID DEPOT) - 1398   \n",
       "\n",
       "                                       Bus Type                 From  \\\n",
       "0                            INDRA(A.C. Seater)            Hyderabad   \n",
       "1        SUPER LUXURY (NON-AC, 2 + 2 PUSH BACK)            Hyderabad   \n",
       "2        SUPER LUXURY (NON-AC, 2 + 2 PUSH BACK)            Hyderabad   \n",
       "3    AMARAVATHI (VOLVO / SCANIA A.C Multi Axle)            Hyderabad   \n",
       "4              NIGHT RIDER (SEATER CUM SLEEPER)            Hyderabad   \n",
       "..                                          ...                  ...   \n",
       "397                         Non AC Seater (2+3)  Barasat (West Be...   \n",
       "398                         Non AC Seater (2+3)  Barasat (West Be...   \n",
       "399                         Non AC Seater (2+3)                Habra   \n",
       "400                         Non AC Seater (2+3)                Habra   \n",
       "401                         Non AC Seater (2+3)                Habra   \n",
       "\n",
       "             To  Price            Starting Point   Ending Point  \\\n",
       "0    Vijayawada  528.0  Central Bus Station (CBS  Rtc bus stand   \n",
       "1    Vijayawada  436.0                Jeedimetla  Rtc bus stand   \n",
       "2    Vijayawada  436.0                Kukatpally  Rtc bus stand   \n",
       "3    Vijayawada  670.0                Kukatpally  Rtc bus stand   \n",
       "4    Vijayawada  595.0                Kukatpally  Rtc bus stand   \n",
       "..          ...    ...                       ...            ...   \n",
       "397    Nimtouri   93.0                   BARASAT       NIMTOURI   \n",
       "398    Nimtouri   82.0               Champadally       Nimtouri   \n",
       "399   Midnapore  138.0                     Habra       Midnapur   \n",
       "400   Midnapore  138.0                     Habra       Midnapur   \n",
       "401   Midnapore  143.0                     HABRA       MIDNAPUR   \n",
       "\n",
       "         Seat Available Start Time Reach Time Total Travel Time Bus Rating  \\\n",
       "0    22 Seats available      17:15      22:45           05h 30m        3.4   \n",
       "1    17 Seats available      17:30      01:20           07h 50m        3.2   \n",
       "2    25 Seats available      17:55      01:45           07h 50m        2.4   \n",
       "3    40 Seats available      18:25      01:30           07h 05m        2.6   \n",
       "4    27 Seats available      18:55      01:15           06h 20m        3.8   \n",
       "..                  ...        ...        ...               ...        ...   \n",
       "397  49 Seats available      11:15      00:00           12h 45m        3.6   \n",
       "398    1 Seat available      07:10      08:45           01h 35m        4.6   \n",
       "399  35 Seats available      05:25      09:35           04h 10m        4.5   \n",
       "400  34 Seats available      05:55      10:15           04h 20m        4.3   \n",
       "401  40 Seats available      06:20      00:00           17h 40m        3.8   \n",
       "\n",
       "                                                 Links  \n",
       "0    https://www.redbus.in/bus-tickets/hyderabad-to...  \n",
       "1    https://www.redbus.in/bus-tickets/hyderabad-to...  \n",
       "2    https://www.redbus.in/bus-tickets/hyderabad-to...  \n",
       "3    https://www.redbus.in/bus-tickets/hyderabad-to...  \n",
       "4    https://www.redbus.in/bus-tickets/hyderabad-to...  \n",
       "..                                                 ...  \n",
       "397  https://www.redbus.in/bus-tickets/barasat-west...  \n",
       "398  https://www.redbus.in/bus-tickets/barasat-west...  \n",
       "399  https://www.redbus.in/bus-tickets/habra-to-mid...  \n",
       "400  https://www.redbus.in/bus-tickets/habra-to-mid...  \n",
       "401  https://www.redbus.in/bus-tickets/habra-to-mid...  \n",
       "\n",
       "[3718 rows x 13 columns]"
      ]
     },
     "execution_count": 3,
     "metadata": {},
     "output_type": "execute_result"
    }
   ],
   "source": [
    "dfbus=pd.concat([dfbus1,dfbus2,dfbus3,dfbus4,dfbus5,dfbus6,dfbus7,dfbus8,dfbus9,dfbus10])\n",
    "dfbus"
   ]
  },
  {
   "cell_type": "code",
   "execution_count": 4,
   "metadata": {},
   "outputs": [],
   "source": [
    "df = dfbus.rename(columns={'Bus Name': 'Bus_Name',\n",
    "                           'Bus Type': 'Bus_Type',\n",
    "                           'From': 'Start_From',\n",
    "                           'To': 'Destination',\n",
    "                           'Price': 'Price',\n",
    "                           'Starting Point': 'Starting_Point',\n",
    "                           'Ending Point': 'Ending_Point',\n",
    "                           'Seat Available': 'Seat_Available',\n",
    "                           'Start Time': 'Start_Time',\n",
    "                           'Reach Time': 'Reach_Time',\n",
    "                           'Total Travel Time': 'Total_Travel_Time',\n",
    "                           'Bus Rating': 'Bus_Rating',\n",
    "                           'Links': 'Links',},)"
   ]
  },
  {
   "cell_type": "code",
   "execution_count": 38,
   "metadata": {},
   "outputs": [],
   "source": [
    "df.to_csv(\"All_Bus_Details.csv\", index=False)"
   ]
  },
  {
   "cell_type": "code",
   "execution_count": 39,
   "metadata": {},
   "outputs": [
    {
     "data": {
      "text/plain": [
       "Bus_Name             9\n",
       "Bus_Type             9\n",
       "Start_From           0\n",
       "Destination          0\n",
       "Price                9\n",
       "Starting_Point       9\n",
       "Ending_Point         9\n",
       "Seat_Available       9\n",
       "Start_Time           9\n",
       "Reach_Time           9\n",
       "Total_Travel_Time    9\n",
       "Bus_Rating           9\n",
       "Links                0\n",
       "dtype: int64"
      ]
     },
     "execution_count": 39,
     "metadata": {},
     "output_type": "execute_result"
    }
   ],
   "source": [
    "df.isna().sum()"
   ]
  },
  {
   "cell_type": "code",
   "execution_count": 40,
   "metadata": {},
   "outputs": [],
   "source": [
    "# Drop rows with any empty cells\n",
    "df.dropna(how='any', inplace=True)"
   ]
  },
  {
   "cell_type": "code",
   "execution_count": 41,
   "metadata": {},
   "outputs": [
    {
     "data": {
      "text/plain": [
       "Bus_Name             0\n",
       "Bus_Type             0\n",
       "Start_From           0\n",
       "Destination          0\n",
       "Price                0\n",
       "Starting_Point       0\n",
       "Ending_Point         0\n",
       "Seat_Available       0\n",
       "Start_Time           0\n",
       "Reach_Time           0\n",
       "Total_Travel_Time    0\n",
       "Bus_Rating           0\n",
       "Links                0\n",
       "dtype: int64"
      ]
     },
     "execution_count": 41,
     "metadata": {},
     "output_type": "execute_result"
    }
   ],
   "source": [
    "df.isna().sum()"
   ]
  },
  {
   "cell_type": "code",
   "execution_count": 42,
   "metadata": {},
   "outputs": [
    {
     "name": "stdout",
     "output_type": "stream",
     "text": [
      "0\n"
     ]
    }
   ],
   "source": [
    "print(df['Bus_Name'].isnull().sum())"
   ]
  },
  {
   "cell_type": "code",
   "execution_count": 43,
   "metadata": {},
   "outputs": [
    {
     "data": {
      "text/plain": [
       "(3709, 13)"
      ]
     },
     "execution_count": 43,
     "metadata": {},
     "output_type": "execute_result"
    }
   ],
   "source": [
    "df.shape"
   ]
  },
  {
   "cell_type": "code",
   "execution_count": 44,
   "metadata": {},
   "outputs": [
    {
     "data": {
      "text/plain": [
       "<bound method Series.unique of 0      https://www.redbus.in/bus-tickets/hyderabad-to...\n",
       "1      https://www.redbus.in/bus-tickets/hyderabad-to...\n",
       "2      https://www.redbus.in/bus-tickets/hyderabad-to...\n",
       "3      https://www.redbus.in/bus-tickets/hyderabad-to...\n",
       "4      https://www.redbus.in/bus-tickets/hyderabad-to...\n",
       "                             ...                        \n",
       "397    https://www.redbus.in/bus-tickets/barasat-west...\n",
       "398    https://www.redbus.in/bus-tickets/barasat-west...\n",
       "399    https://www.redbus.in/bus-tickets/habra-to-mid...\n",
       "400    https://www.redbus.in/bus-tickets/habra-to-mid...\n",
       "401    https://www.redbus.in/bus-tickets/habra-to-mid...\n",
       "Name: Links, Length: 3709, dtype: object>"
      ]
     },
     "execution_count": 44,
     "metadata": {},
     "output_type": "execute_result"
    }
   ],
   "source": [
    "df['Links'].unique"
   ]
  },
  {
   "cell_type": "code",
   "execution_count": 45,
   "metadata": {},
   "outputs": [
    {
     "name": "stdout",
     "output_type": "stream",
     "text": [
      "<class 'pandas.core.frame.DataFrame'>\n",
      "Index: 3709 entries, 0 to 401\n",
      "Data columns (total 13 columns):\n",
      " #   Column             Non-Null Count  Dtype  \n",
      "---  ------             --------------  -----  \n",
      " 0   Bus_Name           3709 non-null   object \n",
      " 1   Bus_Type           3709 non-null   object \n",
      " 2   Start_From         3709 non-null   object \n",
      " 3   Destination        3709 non-null   object \n",
      " 4   Price              3709 non-null   float64\n",
      " 5   Starting_Point     3709 non-null   object \n",
      " 6   Ending_Point       3709 non-null   object \n",
      " 7   Seat_Available     3709 non-null   object \n",
      " 8   Start_Time         3709 non-null   object \n",
      " 9   Reach_Time         3709 non-null   object \n",
      " 10  Total_Travel_Time  3709 non-null   object \n",
      " 11  Bus_Rating         3709 non-null   object \n",
      " 12  Links              3709 non-null   object \n",
      "dtypes: float64(1), object(12)\n",
      "memory usage: 405.7+ KB\n"
     ]
    }
   ],
   "source": [
    "df.info()"
   ]
  },
  {
   "cell_type": "code",
   "execution_count": 46,
   "metadata": {},
   "outputs": [],
   "source": [
    "df['Start_Time']=pd.to_datetime(df['Start_Time'],format=\"%H:%M\").dt.strftime(\"%H:%M\")"
   ]
  },
  {
   "cell_type": "code",
   "execution_count": 47,
   "metadata": {},
   "outputs": [],
   "source": [
    "df['Reach_Time']=pd.to_datetime(df['Reach_Time'],format=\"%H:%M\").dt.strftime('%H:%M')"
   ]
  },
  {
   "cell_type": "code",
   "execution_count": 48,
   "metadata": {},
   "outputs": [
    {
     "name": "stdout",
     "output_type": "stream",
     "text": [
      "<class 'pandas.core.series.Series'>\n"
     ]
    }
   ],
   "source": [
    "print(type(df['Start_Time'][0]))"
   ]
  },
  {
   "cell_type": "code",
   "execution_count": 49,
   "metadata": {},
   "outputs": [
    {
     "name": "stdout",
     "output_type": "stream",
     "text": [
      "<class 'pandas.core.series.Series'>\n"
     ]
    }
   ],
   "source": [
    "print(type(df['Reach_Time'][0]))"
   ]
  },
  {
   "cell_type": "code",
   "execution_count": 50,
   "metadata": {},
   "outputs": [
    {
     "data": {
      "text/plain": [
       "0      17:15\n",
       "1      17:30\n",
       "2      17:55\n",
       "3      18:25\n",
       "4      18:55\n",
       "       ...  \n",
       "397    11:15\n",
       "398    07:10\n",
       "399    05:25\n",
       "400    05:55\n",
       "401    06:20\n",
       "Name: Start_Time, Length: 3709, dtype: object"
      ]
     },
     "execution_count": 50,
     "metadata": {},
     "output_type": "execute_result"
    }
   ],
   "source": [
    "df['Start_Time']"
   ]
  },
  {
   "cell_type": "code",
   "execution_count": 51,
   "metadata": {},
   "outputs": [
    {
     "name": "stdout",
     "output_type": "stream",
     "text": [
      "<class 'pandas.core.frame.DataFrame'>\n",
      "Index: 3709 entries, 0 to 401\n",
      "Data columns (total 13 columns):\n",
      " #   Column             Non-Null Count  Dtype  \n",
      "---  ------             --------------  -----  \n",
      " 0   Bus_Name           3709 non-null   object \n",
      " 1   Bus_Type           3709 non-null   object \n",
      " 2   Start_From         3709 non-null   object \n",
      " 3   Destination        3709 non-null   object \n",
      " 4   Price              3709 non-null   float64\n",
      " 5   Starting_Point     3709 non-null   object \n",
      " 6   Ending_Point       3709 non-null   object \n",
      " 7   Seat_Available     3709 non-null   object \n",
      " 8   Start_Time         3709 non-null   object \n",
      " 9   Reach_Time         3709 non-null   object \n",
      " 10  Total_Travel_Time  3709 non-null   object \n",
      " 11  Bus_Rating         3709 non-null   object \n",
      " 12  Links              3709 non-null   object \n",
      "dtypes: float64(1), object(12)\n",
      "memory usage: 534.7+ KB\n"
     ]
    }
   ],
   "source": [
    "df.info()"
   ]
  },
  {
   "cell_type": "code",
   "execution_count": 52,
   "metadata": {},
   "outputs": [],
   "source": [
    "df['Bus_Rating'] = pd.to_numeric(df['Bus_Rating'], errors='coerce')"
   ]
  },
  {
   "cell_type": "code",
   "execution_count": 53,
   "metadata": {},
   "outputs": [
    {
     "data": {
      "text/plain": [
       "0      3.4\n",
       "1      3.2\n",
       "2      2.4\n",
       "3      2.6\n",
       "4      3.8\n",
       "      ... \n",
       "397    3.6\n",
       "398    4.6\n",
       "399    4.5\n",
       "400    4.3\n",
       "401    3.8\n",
       "Name: Bus_Rating, Length: 3709, dtype: float64"
      ]
     },
     "execution_count": 53,
     "metadata": {},
     "output_type": "execute_result"
    }
   ],
   "source": [
    "df['Bus_Rating']"
   ]
  },
  {
   "cell_type": "code",
   "execution_count": 54,
   "metadata": {},
   "outputs": [
    {
     "data": {
      "text/plain": [
       "dtype('O')"
      ]
     },
     "execution_count": 54,
     "metadata": {},
     "output_type": "execute_result"
    }
   ],
   "source": [
    "df['Seat_Available'].dtype"
   ]
  },
  {
   "cell_type": "code",
   "execution_count": 55,
   "metadata": {},
   "outputs": [
    {
     "data": {
      "text/plain": [
       "array([ 528.  ,  436.  ,  670.  ,  595.  ,  781.  ,  469.  ,  412.  ,\n",
       "        565.  ,  607.  ,  414.  ,  420.  ,  500.  ,  633.  ,  517.  ,\n",
       "        444.  ,  635.  ,  446.  ,  567.  ,  720.  ,  737.  ,  795.  ,\n",
       "        450.  ,  350.  ,  459.  ,  346.  ,  584.  ,  510.  ,  383.  ,\n",
       "        590.  ,  589.  ,  352.  ,  725.  ,  332.  ,  449.  ,  425.  ,\n",
       "        630.  ,  427.  ,  555.  ,  560.  ,  440.  ,  783.  ,  343.  ,\n",
       "        522.  ,  400.  ,  250.  ,  281.  ,  340.  ,  269.  ,  302.  ,\n",
       "        266.  ,  499.  ,  740.  ,  790.  ,  186.  ,  304.  ,  380.  ,\n",
       "        314.  ,  399.  ,  599.  ,  699.  ,  439.  ,  526.  ,  656.  ,\n",
       "        700.  ,  799.  ,  600.  ,  849.  ,  940.  ,  749.  ,  905.  ,\n",
       "        770.  , 1050.  ,  990.  ,  650.  ,  850.  ,  900.  , 5000.  ,\n",
       "       3660.  ,  294.  ,  280.  ,  284.  ,  398.  ,  506.  ,  362.  ,\n",
       "        660.  ,  379.  ,  820.  ,  549.  ,  627.  ,  430.  ,  481.  ,\n",
       "        519.  ,  800.  ,  569.  ,  523.  ,  349.  ,  475.  , 4750.  ,\n",
       "       1500.  ,  632.  ,  306.  ,  300.  ,  199.  ,  570.  ,  550.  ,\n",
       "        680.  ,  752.  ,  726.  ,  738.  ,  540.  ,  765.  ,  416.  ,\n",
       "        370.  ,  371.  ,  342.  ,  467.  ,  312.  ,  344.  ,  328.  ,\n",
       "        287.  ,  470.  ,  509.  ,  562.  ,  463.  ,  553.  ,  743.  ,\n",
       "        515.  ,  610.  , 2000.  , 3999.  ,  750.  ,  388.  ,  782.  ,\n",
       "       1000.  , 2160.  , 2500.  ,  579.  ,  574.  ,  605.  ,  882.  ,\n",
       "        732.  ,  929.  ,  784.  ,  488.  ,  649.  ,  621.  ,  679.  ,\n",
       "        810.  ,  480.  ,  544.  ,  474.  ,  675.  ,  220.  ,  217.  ,\n",
       "        277.  ,  170.  ,  246.  ,  629.  ,  534.  ,  594.  ,  189.  ,\n",
       "        466.  ,  890.  ,  490.  , 1149.  ,  950.  ,  949.  , 1299.  ,\n",
       "        851.  ,  832.  ,  975.  , 1080.  ,  353.  ,  330.  ,  422.  ,\n",
       "        880.  , 3605.  ,  386.  ,  355.  ,  661.  , 1016.  ,  524.  ,\n",
       "        778.  , 1111.  , 1033.  ,  889.  ,  713.  , 1290.  , 1390.  ,\n",
       "       1630.  , 1411.  , 1155.  , 1275.  , 1114.  , 1100.  , 1199.  ,\n",
       "       1090.  , 1590.  , 1352.  , 1173.  ,  641.  ,  435.  ,  516.  ,\n",
       "        447.  ,  460.  ,  690.  ,  780.  ,  899.  ,  741.  ,  575.  ,\n",
       "       3000.  ,  205.  ,  188.  ,  301.  ,  209.  ,  162.  ,  253.  ,\n",
       "        222.  ,  204.  ,  200.  ,  238.  ,  270.  ,  671.  ,  756.  ,\n",
       "        554.  ,  373.  ,  568.  ,  451.  ,  777.  ,  789.  ,  919.  ,\n",
       "        989.  , 1099.  , 1700.  ,  157.  ,  617.  ,  613.  , 1131.  ,\n",
       "       1140.  ,  968.  ,  759.  ,  664.  ,  648.  ,  859.  , 1950.  ,\n",
       "        428.  ,  684.  , 1020.  ,  846.  , 1076.  , 1215.  , 1425.  ,\n",
       "        924.  , 1310.  , 1400.  ,  918.  ,  394.  ,  487.  ,  511.  ,\n",
       "       1555.  , 1999.  ,  367.  ,  419.  ,  260.  ,  263.  ,  261.  ,\n",
       "        401.  ,  318.  ,  252.  ,  601.  ,  535.  ,  275.  ,  551.  ,\n",
       "        769.  ,  580.  ,  501.  , 2100.  , 2105.  ,  298.  ,  360.  ,\n",
       "        352.38,  342.86,  324.  ,  357.  ,  324.47,  389.13,  285.  ,\n",
       "        290.  ,  315.  ,  341.  ,  380.95,  408.  ,  191.  ,  164.  ,\n",
       "        333.33,  293.  ,  291.57,  302.91,  270.01,  285.71,  303.  ,\n",
       "        240.  ,  235.62,  423.  ,  457.14,  476.19,  454.  ,  410.  ,\n",
       "        432.  ,  637.59,  245.  ,  692.05,  503.  ,  620.  ,  604.69,\n",
       "        495.  ,  331.  ,  405.  ,  230.  , 1130.  ,  840.  , 2313.  ,\n",
       "       1499.  ,  248.  ,  193.  ,  213.  ,  468.  ,  333.  ,  618.  ,\n",
       "        507.  ,  892.  ,  622.  ,  867.  ,  557.  ,  529.  ,  938.  ,\n",
       "        920.  ,  538.  ,  514.  ,  577.  ,  674.  ,  606.  ,  746.  ,\n",
       "       2199.  ,  387.  , 1350.  , 1360.  , 1649.  , 1756.  , 1286.  ,\n",
       "        855.  , 1049.  , 1439.  , 1480.  ,  955.  ,  539.  ,  942.  ,\n",
       "        863.  , 1169.  ,  822.  , 1428.  ,  809.  , 1446.  ,  438.  ,\n",
       "        385.  ,  533.  ,  486.  ,  712.  ,  944.  ,  764.  , 1259.  ,\n",
       "       1079.  , 1699.  ,  323.  ,  615.  ,  701.  ,  608.  , 1118.  ,\n",
       "       1008.  ,  604.  , 1093.  , 1021.  ,  698.  ,  536.  ,  493.  ,\n",
       "        657.  ,  548.  ,  893.  ,  727.  , 1399.  , 1903.81, 1103.  ,\n",
       "        755.  ,  779.  , 1295.  ,  815.  ,  461.  ,  494.  ,  999.  ,\n",
       "        434.  ,  724.  ,  479.  ,  792.  ,  787.  ,  751.  ,  585.  ,\n",
       "       1437.  , 1255.  , 1205.  , 1387.  ,  721.  ,  478.  ,  715.  ,\n",
       "        716.  , 1342.  ,  865.  ,  758.  ,  834.  ,  733.  ,  431.  ,\n",
       "        404.  ,  696.  ,  492.  ,  722.  ,  640.  ,  473.  ,  775.  ,\n",
       "        477.  ,  483.  ,  573.  ,  655.  ,  403.  ,  365.  ,  415.  ,\n",
       "        688.  ,  683.  ,  395.  ,  377.  ,  457.  ,  793.  ,  424.  ,\n",
       "       1899.  ,  709.  ,  702.  , 1191.  ,  760.  , 1158.  ,  489.  ,\n",
       "        912.  ,  856.  , 1800.  ,  464.  , 1019.  ,  546.  ,  530.  ,\n",
       "       2999.  ,  542.  , 1105.  ,  904.  , 1900.  , 2399.  , 1174.  ,\n",
       "        637.  , 1599.  , 1234.  ,  895.  ,  958.  ,  971.  ,  898.  ,\n",
       "       1440.  ,  994.  ,  719.  ,  723.  ,  891.  , 1139.  , 1799.  ,\n",
       "       1449.  , 2699.  ,  309.  ,  288.  ,  255.  ,  299.  ,  903.  ,\n",
       "        695.  , 1200.  ,  513.  ,  739.  ,  268.  ,  231.  ,  452.  ,\n",
       "        319.  ,  586.  ,  742.  ,  356.  ,  426.  ,  216.  ,  181.  ,\n",
       "        174.  ,  201.  ,  227.  ,  545.  , 1250.  ,  381.  ,  745.  ,\n",
       "        845.  , 3899.  ,  134.  ,  145.  ,  111.  ,  108.  , 1212.  ,\n",
       "        129.  ,  155.  ,  442.  ,  396.  ,  389.  ,  374.  ,  969.  ,\n",
       "       3300.  , 3850.  ,  100.  ,   95.  ,  180.  ,  429.  , 1300.  ,\n",
       "        150.  ,   85.  ,   97.  ,  259.  ,  364.  ,  363.  ,  376.  ,\n",
       "        686.  ,  561.  ,  283.  ,  407.  ,  456.  ,  854.  ,  666.  ,\n",
       "        339.  ,  581.  ,  358.  , 1388.  ,  705.  , 3996.  ,  520.  ,\n",
       "        736.  ,  504.  ,  611.  ,  369.  ,  497.  ,  409.  ,  570.48,\n",
       "       1110.  , 2600.  , 2850.  ,  476.  ,  392.  ,  502.  ,  289.  ,\n",
       "        351.  ,  366.  ,  135.  ,  154.  ,  320.  ,  359.  ,  347.  ,\n",
       "        375.  ,  361.  ,  185.  ,  165.  ,  131.  ,  995.  ,  665.  ,\n",
       "       1600.  , 3500.  , 2900.  ,  125.  ,  120.  ,  147.  ,   93.  ,\n",
       "        110.  ,  210.  ,  160.  ,  161.  ,   82.  ,  138.  ,  143.  ])"
      ]
     },
     "execution_count": 55,
     "metadata": {},
     "output_type": "execute_result"
    }
   ],
   "source": [
    "df['Price'].unique()"
   ]
  },
  {
   "cell_type": "code",
   "execution_count": 56,
   "metadata": {},
   "outputs": [],
   "source": [
    "df['Price']=df['Price'].astype(float).round(2)"
   ]
  },
  {
   "cell_type": "code",
   "execution_count": 57,
   "metadata": {},
   "outputs": [
    {
     "data": {
      "text/plain": [
       "0      528.0\n",
       "1      436.0\n",
       "2      436.0\n",
       "3      670.0\n",
       "4      595.0\n",
       "       ...  \n",
       "397     93.0\n",
       "398     82.0\n",
       "399    138.0\n",
       "400    138.0\n",
       "401    143.0\n",
       "Name: Price, Length: 3709, dtype: float64"
      ]
     },
     "execution_count": 57,
     "metadata": {},
     "output_type": "execute_result"
    }
   ],
   "source": [
    "df['Price']"
   ]
  },
  {
   "cell_type": "code",
   "execution_count": 58,
   "metadata": {},
   "outputs": [
    {
     "name": "stdout",
     "output_type": "stream",
     "text": [
      "<class 'pandas.core.frame.DataFrame'>\n",
      "Index: 3709 entries, 0 to 401\n",
      "Data columns (total 13 columns):\n",
      " #   Column             Non-Null Count  Dtype  \n",
      "---  ------             --------------  -----  \n",
      " 0   Bus_Name           3709 non-null   object \n",
      " 1   Bus_Type           3709 non-null   object \n",
      " 2   Start_From         3709 non-null   object \n",
      " 3   Destination        3709 non-null   object \n",
      " 4   Price              3709 non-null   float64\n",
      " 5   Starting_Point     3709 non-null   object \n",
      " 6   Ending_Point       3709 non-null   object \n",
      " 7   Seat_Available     3709 non-null   object \n",
      " 8   Start_Time         3709 non-null   object \n",
      " 9   Reach_Time         3709 non-null   object \n",
      " 10  Total_Travel_Time  3709 non-null   object \n",
      " 11  Bus_Rating         3667 non-null   float64\n",
      " 12  Links              3709 non-null   object \n",
      "dtypes: float64(2), object(11)\n",
      "memory usage: 534.7+ KB\n"
     ]
    }
   ],
   "source": [
    "df.info()"
   ]
  },
  {
   "cell_type": "code",
   "execution_count": 59,
   "metadata": {},
   "outputs": [],
   "source": [
    "df['Total_Travel_Time'] = df['Total_Travel_Time'].str.replace('h ', ':').str.replace('m', '')"
   ]
  },
  {
   "cell_type": "code",
   "execution_count": 60,
   "metadata": {},
   "outputs": [
    {
     "data": {
      "text/plain": [
       "array(['05:30', '07:50', '07:05', '06:20', '06:50', '05:55', '06:15',\n",
       "       '06:35', '06:45', '07:35', '07:10', '07:40', '06:00', '06:05',\n",
       "       '07:00', '06:25', '06:40', '07:15', '06:55', '06:10', '07:25',\n",
       "       '07:30', '06:30', '06:27', '06:02', '05:49', '07:20', '05:15',\n",
       "       '05:50', '05:35', '05:00', '05:20', '05:10', '05:25', '05:45',\n",
       "       '05:40', '05:41', '06:52', '06:31', '06:38', '05:07', '06:08',\n",
       "       '06:26', '08:20', '04:35', '03:40', '04:00', '04:59', '04:10',\n",
       "       '04:15', '04:30', '03:45', '04:05', '03:30', '03:50', '03:25',\n",
       "       '04:25', '05:16', '04:40', '05:56', '08:10', '05:05', '08:05',\n",
       "       '07:32', '05:31', '06:01', '05:46', '07:01', '05:02', '05:11',\n",
       "       '04:46', '04:45', '0-18:0-59', '05:01', '05:36', '05:14', '04:55',\n",
       "       '04:24', '04:50', '02:49', '04:33', '03:55', '04:20', '02:50',\n",
       "       '03:35', '03:15', '0-20:0-50', '03:31', '04:51', '03:05', '04:36',\n",
       "       '0-8:0-5', '07:45', '08:00', '07:51', '07:29', '07:55', '09:00',\n",
       "       '09:35', '08:30', '08:35', '07:46', '08:45', '09:15', '08:15',\n",
       "       '08:50', '09:05', '09:20', '08:06', '08:25', '08:13', '08:49',\n",
       "       '02:19', '03:34', '03:00', '03:20', '02:29', '02:40', '03:10',\n",
       "       '02:45', '05:26', '07:21', '04:01', '06:22', '10:30', '10:15',\n",
       "       '11:55', '10:45', '09:45', '09:30', '10:35', '10:05', '09:40',\n",
       "       '10:10', '09:01', '08:40', '03:14', '02:59', '02:55', '27:30',\n",
       "       '06:03', '04:44', '02:20', '07:41', '09:11', '08:55', '06:46',\n",
       "       '04:28', '03:39', '03:29', '04:21', '28:45', '02:05', '01:40',\n",
       "       '02:10', '02:15', '02:35', '02:30', '02:25', '02:00', '27:05',\n",
       "       '07:19', '10:00', '05:18', '05:23', '05:09', '05:32', '05:27',\n",
       "       '03:02', '06:47', '17:45', '06:24', '07:36', '09:50', '16:10',\n",
       "       '03:52', '03:44', '03:47', '10:59', '09:10', '09:47', '10:20',\n",
       "       '09:28', '07:54', '09:17', '09:25', '09:32', '07:26', '08:39',\n",
       "       '06:32', '12:00', '14:10', '11:00', '13:58', '13:00', '11:16',\n",
       "       '12:58', '12:05', '12:55', '11:40', '12:25', '11:20', '11:25',\n",
       "       '11:30', '12:30', '12:20', '11:45', '13:05', '11:05', '13:55',\n",
       "       '13:45', '13:10', '13:14', '13:40', '12:35', '11:15', '12:45',\n",
       "       '14:00', '13:30', '04:37', '11:36', '09:48', '11:50', '12:01',\n",
       "       '14:30', '11:53', '11:35', '11:44', '11:58', '12:40', '11:10',\n",
       "       '10:55', '10:53', '09:55', '11:29', '10:50', '12:15', '06:04',\n",
       "       '07:16', '06:36', '06:41', '05:12', '13:15', '13:35', '12:51',\n",
       "       '08:59', '10:24', '11:31', '12:36', '10:40', '09:52', '10:25',\n",
       "       '09:44', '07:17', '07:38', '06:34', '07:02', '12:10', '08:29',\n",
       "       '06:16', '06:09', '09:34', '10:21', '11:08', '11:17', '11:47',\n",
       "       '12:50', '13:26', '12:16', '13:50', '13:20', '14:40', '13:25',\n",
       "       '14:20', '09:24', '09:03', '04:18', '04:39', '05:54', '03:54',\n",
       "       '02:04', '09:19', '09:09', '07:58', '09:14', '05:21', '05:24',\n",
       "       '05:06', '04:57', '04:31', '0-19:0-45', '05:59', '06:14', '08:58',\n",
       "       '07:49', '06:43', '07:34', '07:24', '07:09', '02:58', '02:28',\n",
       "       '02:16', '0-16:0-45', '0-21:00', '03:32', '03:41', '03:46',\n",
       "       '03:16', '09:41', '09:22', '08:44', '09:27', '11:01', '06:49',\n",
       "       '07:18', '07:14', '03:36', '03:53', '0-21:0-15', '01:54', '01:50',\n",
       "       '01:45', '01:35', '01:25', '01:55', '01:34', '01:29', '06:33',\n",
       "       '06:07', '06:53', '07:31', '09:31', '01:30', '06:13', '09:16',\n",
       "       '05:51', '04:56', '20:00', '19:30', '19:00', '18:30', '17:30',\n",
       "       '17:10', '16:45', '05:13', '04:29', '16:30', '16:00', '15:30',\n",
       "       '16:40', '17:00', '15:25', '14:15', '15:00', '19:15', '17:40'],\n",
       "      dtype=object)"
      ]
     },
     "execution_count": 60,
     "metadata": {},
     "output_type": "execute_result"
    }
   ],
   "source": [
    "df['Total_Travel_Time'].unique()"
   ]
  },
  {
   "cell_type": "code",
   "execution_count": 61,
   "metadata": {},
   "outputs": [
    {
     "data": {
      "text/plain": [
       "array(['INDRA(A.C. Seater)', 'SUPER LUXURY (NON-AC, 2 + 2 PUSH BACK)',\n",
       "       'AMARAVATHI (VOLVO / SCANIA A.C Multi Axle)',\n",
       "       'NIGHT RIDER (SEATER CUM SLEEPER)', 'VENNELA (A.C. SLEEPER)',\n",
       "       'STAR LINER(NON-AC SLEEPER 2+1)',\n",
       "       'DOLPHIN CRUISE (VOLVO / SCANIA A.C Multi Axle)',\n",
       "       'A/C Seater / Sleeper (2+1)', 'Electric A/C Seater (2+2)',\n",
       "       'Scania Multi-Axle AC Semi Sleeper (2+2)',\n",
       "       'Volvo A/C Semi Sleeper (2+2)', 'A/C Sleeper (2+1)',\n",
       "       'Scania AC Multi Axle Sleeper (2+1)', 'AC Sleeper (2+1)',\n",
       "       'Electric A/C Seater/Sleeper (2+1)',\n",
       "       'Non A/C Seater / Sleeper (2+1)', 'NON A/C Sleeper (2+1)',\n",
       "       'NON AC Seater / Sleeper 2+1', 'NON A/C Hi-Tech (2+2)',\n",
       "       'ULTRA DELUXE (NON-AC, 2+2 PUSH BACK)', 'Express(Non AC Seater)',\n",
       "       'NON A/C Seater/ Sleeper (2+1)', 'A/C Seater/Sleeper (2+1)',\n",
       "       'NON A/C Semi Sleeper / Sleeper (2+1)', 'SAPTAGIRI EXPRESS',\n",
       "       'Volvo Multi Axle A/C Sleeper I-Shift B11R (2+1)',\n",
       "       'Scania A/C Semi Sleeper (2+2)',\n",
       "       'Bharat Benz A/C Seater /Sleeper (2+1)',\n",
       "       'Volvo 9600 Multi-Axle A/C Sleeper (2+1)', 'VE A/C Sleeper (2+1)',\n",
       "       'METRO LUXURY A/C', 'NON A/C Seater Push Back (2+2)',\n",
       "       'NON A/C Seater (2+3)', 'Bharat Benz A/C Sleeper (2+1)',\n",
       "       'NON A/C Semi Sleeper (2+2)',\n",
       "       'Volvo 9600 A/C Seater/Sleeper (2+1)',\n",
       "       'A/C Volvo B11R Multi-Axle Sleeper (2+1)',\n",
       "       'Volvo Multi Axle Sleeper B11R (2+1)',\n",
       "       'NON A/C Seater PushBack (2+2)', 'NON A/C Push Back (2+2)',\n",
       "       'NON A/C Seater (2+2)', 'Volvo Multi-Axle A/C Sleeper (2+1)',\n",
       "       'A/C Semi Sleeper / Sleeper (2+1)',\n",
       "       'VE Executive A/C Sleeper (1+1)',\n",
       "       'Volvo Multi-Axle Sleeper A/C (2+1)',\n",
       "       'Bharat Benz A/C Seater (2+2)', 'Volvo AC Seater 2+2',\n",
       "       'A/C Seater Push Back (2+2)', 'A/C Seater (2+2)',\n",
       "       'AC Seater (2+2)', 'A/C Seater (2+1)', 'Tata A/C Seater (2+2)',\n",
       "       'Volvo AC Seater Pushback 2+2', 'NON A/C Seater (2+1)',\n",
       "       'Non AC Seater (2+2)', 'NON A/C Seater Semi Sleeper (2+1)',\n",
       "       'Bharat Benz A/C Seater (2+1)', 'NON AC Seater/ Sleeper (2+1)',\n",
       "       'Non AC Seater (2+1)', 'NON A/C Seater Push Back (2+1)',\n",
       "       'A/C Semi Sleeper (2+1)', 'Non AC Seater 2+2',\n",
       "       'NON A/C Hi-Tech Push Back (2+2)', 'A/C Seater / Sleeper (2+2)',\n",
       "       'Volvo A/C Sleeper (2+1)', 'Non AC Seater (2+3)',\n",
       "       'Ordinary 3+2 Non AC Seater', 'Himsuta AC Seater Volvo/Scania 2+2',\n",
       "       'A/C Executive (2+3)', 'Volvo A/C Semi Sleeper (2+2 )',\n",
       "       'Volvo Multi-Axle I-Shift B11R Semi Sleeper (2+2)',\n",
       "       'Bharat Benz A/C Semi Sleeper (2+2)',\n",
       "       'Mercedes Multi-Axle Semi Sleeper (2+2)',\n",
       "       'Volvo 9600 A/C Semi Sleeper (2+2)', 'A/C Semi Sleeper (2+2)',\n",
       "       'Volvo AC Seater (2+2)',\n",
       "       'Volvo 9600 Multi Axle Semi-Sleeper (2+2)',\n",
       "       'Volvo A/C B11R Multi Axle Semi Sleeper (2+2)',\n",
       "       'Mercedes Benz A/C (2+2)', 'Himmani Deluxe 2+2 Non AC Seater',\n",
       "       'Volvo Multi-Axle A/C Semisleeper (2+2)', 'VE A/C Seater (2+2)',\n",
       "       'VE A/C Semi Sleeper (2+2)',\n",
       "       'Volvo Multi-Axle A/C Semi Sleeper (2+2)',\n",
       "       'VE A/C Seater / Sleeper (2+1)', 'A/C Sleeper (2+2)',\n",
       "       'Volvo A/C Multi-Axle Semi Sleeper (2+2)', 'Volvo A/C (2+2)',\n",
       "       'VE A/C Sleeper (2+2)', 'Bharat Benz A/C Seater / Sleeper (2+2)',\n",
       "       'VE A/C Seater / Sleeper (2+2)',\n",
       "       'Volvo Multi-Axle B9R A/c Semi Sleeper (2+2)',\n",
       "       'Volvo A/C Sleeper (2+2)', 'SWIFT-GARUDA A/C SEATER BUS',\n",
       "       'Swift Deluxe Non AC Air Bus (2+2)',\n",
       "       'Super Express Non AC Seater Air Bus (2+2)',\n",
       "       'Low Floor AC Seater 2+2', 'Super Fast Non AC Seater (2+3)',\n",
       "       'NON AC Mini Bus (2+2)', 'NON A/C Seater / Sleeper (3+1)',\n",
       "       'AC MULTI AXLE', '2+1 Air Suspension A/C Seater / Sleeper',\n",
       "       'Super Deluxe Non AC Seater Air Bus (2+2)', 'Garuda Premium',\n",
       "       'Volvo A/C Seater (2+2)', 'NON A/C Seater / Sleeper (2+2)',\n",
       "       'A/C Seater Push Back (2+3)', 'Lahari A/C sleeper',\n",
       "       'RAJDHANI (A.C. Semi Sleeper)',\n",
       "       'RAJADHANI AC (CONVERTED METRO LUXURY)',\n",
       "       'Lahari Non A/C Sleeper Cum Seater', 'eGARUDA',\n",
       "       'LAHARI A/C SLEEPER CUM SEATER', 'NON A/C Airbus (2+2)',\n",
       "       'Deluxe (Non AC Seater 2+2)', 'Rajdhani (AC Semi Sleeper 2+2)',\n",
       "       'Volvo 9600 A/C Seater (2+2)', 'AC Seater (2+3)',\n",
       "       'A/C Seater (2+3)', 'A/C Push Back (2+3)',\n",
       "       'Volvo Multi-Axle A/C seater/sleeper (2+1)',\n",
       "       'Volvo Multi-Axle A/C Seater/Sleeper (2+1)',\n",
       "       'Volvo Multi Axle B11R AC Seater\\\\Sleeper (2+1)'], dtype=object)"
      ]
     },
     "execution_count": 61,
     "metadata": {},
     "output_type": "execute_result"
    }
   ],
   "source": [
    "df['Bus_Type'].unique()"
   ]
  },
  {
   "cell_type": "code",
   "execution_count": 62,
   "metadata": {},
   "outputs": [],
   "source": [
    "# or, if you want to remove rows with NaN values\n",
    "df.dropna(inplace=True)\n",
    "\n",
    "# now you can insert the cleaned data into the database"
   ]
  },
  {
   "cell_type": "code",
   "execution_count": 63,
   "metadata": {},
   "outputs": [
    {
     "data": {
      "text/html": [
       "<div>\n",
       "<style scoped>\n",
       "    .dataframe tbody tr th:only-of-type {\n",
       "        vertical-align: middle;\n",
       "    }\n",
       "\n",
       "    .dataframe tbody tr th {\n",
       "        vertical-align: top;\n",
       "    }\n",
       "\n",
       "    .dataframe thead th {\n",
       "        text-align: right;\n",
       "    }\n",
       "</style>\n",
       "<table border=\"1\" class=\"dataframe\">\n",
       "  <thead>\n",
       "    <tr style=\"text-align: right;\">\n",
       "      <th></th>\n",
       "      <th>Bus_Name</th>\n",
       "      <th>Bus_Type</th>\n",
       "      <th>Start_From</th>\n",
       "      <th>Destination</th>\n",
       "      <th>Price</th>\n",
       "      <th>Starting_Point</th>\n",
       "      <th>Ending_Point</th>\n",
       "      <th>Seat_Available</th>\n",
       "      <th>Start_Time</th>\n",
       "      <th>Reach_Time</th>\n",
       "      <th>Total_Travel_Time</th>\n",
       "      <th>Bus_Rating</th>\n",
       "      <th>Links</th>\n",
       "    </tr>\n",
       "  </thead>\n",
       "  <tbody>\n",
       "    <tr>\n",
       "      <th>0</th>\n",
       "      <td>APSRTC - 2561</td>\n",
       "      <td>INDRA(A.C. Seater)</td>\n",
       "      <td>Hyderabad</td>\n",
       "      <td>Vijayawada</td>\n",
       "      <td>528.0</td>\n",
       "      <td>Central Bus Station (CBS</td>\n",
       "      <td>Rtc bus stand</td>\n",
       "      <td>22 Seats available</td>\n",
       "      <td>17:15</td>\n",
       "      <td>22:45</td>\n",
       "      <td>05:30</td>\n",
       "      <td>3.4</td>\n",
       "      <td>https://www.redbus.in/bus-tickets/hyderabad-to...</td>\n",
       "    </tr>\n",
       "    <tr>\n",
       "      <th>1</th>\n",
       "      <td>APSRTC - 2674</td>\n",
       "      <td>SUPER LUXURY (NON-AC, 2 + 2 PUSH BACK)</td>\n",
       "      <td>Hyderabad</td>\n",
       "      <td>Vijayawada</td>\n",
       "      <td>436.0</td>\n",
       "      <td>Jeedimetla</td>\n",
       "      <td>Rtc bus stand</td>\n",
       "      <td>17 Seats available</td>\n",
       "      <td>17:30</td>\n",
       "      <td>01:20</td>\n",
       "      <td>07:50</td>\n",
       "      <td>3.2</td>\n",
       "      <td>https://www.redbus.in/bus-tickets/hyderabad-to...</td>\n",
       "    </tr>\n",
       "    <tr>\n",
       "      <th>2</th>\n",
       "      <td>APSRTC - 3366</td>\n",
       "      <td>SUPER LUXURY (NON-AC, 2 + 2 PUSH BACK)</td>\n",
       "      <td>Hyderabad</td>\n",
       "      <td>Vijayawada</td>\n",
       "      <td>436.0</td>\n",
       "      <td>Kukatpally</td>\n",
       "      <td>Rtc bus stand</td>\n",
       "      <td>25 Seats available</td>\n",
       "      <td>17:55</td>\n",
       "      <td>01:45</td>\n",
       "      <td>07:50</td>\n",
       "      <td>2.4</td>\n",
       "      <td>https://www.redbus.in/bus-tickets/hyderabad-to...</td>\n",
       "    </tr>\n",
       "    <tr>\n",
       "      <th>3</th>\n",
       "      <td>APSRTC - 3360</td>\n",
       "      <td>AMARAVATHI (VOLVO / SCANIA A.C Multi Axle)</td>\n",
       "      <td>Hyderabad</td>\n",
       "      <td>Vijayawada</td>\n",
       "      <td>670.0</td>\n",
       "      <td>Kukatpally</td>\n",
       "      <td>Rtc bus stand</td>\n",
       "      <td>40 Seats available</td>\n",
       "      <td>18:25</td>\n",
       "      <td>01:30</td>\n",
       "      <td>07:05</td>\n",
       "      <td>2.6</td>\n",
       "      <td>https://www.redbus.in/bus-tickets/hyderabad-to...</td>\n",
       "    </tr>\n",
       "    <tr>\n",
       "      <th>4</th>\n",
       "      <td>APSRTC - 2575</td>\n",
       "      <td>NIGHT RIDER (SEATER CUM SLEEPER)</td>\n",
       "      <td>Hyderabad</td>\n",
       "      <td>Vijayawada</td>\n",
       "      <td>595.0</td>\n",
       "      <td>Kukatpally</td>\n",
       "      <td>Rtc bus stand</td>\n",
       "      <td>27 Seats available</td>\n",
       "      <td>18:55</td>\n",
       "      <td>01:15</td>\n",
       "      <td>06:20</td>\n",
       "      <td>3.8</td>\n",
       "      <td>https://www.redbus.in/bus-tickets/hyderabad-to...</td>\n",
       "    </tr>\n",
       "    <tr>\n",
       "      <th>...</th>\n",
       "      <td>...</td>\n",
       "      <td>...</td>\n",
       "      <td>...</td>\n",
       "      <td>...</td>\n",
       "      <td>...</td>\n",
       "      <td>...</td>\n",
       "      <td>...</td>\n",
       "      <td>...</td>\n",
       "      <td>...</td>\n",
       "      <td>...</td>\n",
       "      <td>...</td>\n",
       "      <td>...</td>\n",
       "      <td>...</td>\n",
       "    </tr>\n",
       "    <tr>\n",
       "      <th>397</th>\n",
       "      <td>SBSTC-BARASAT - DIGHA - VIA - NIBEDITA SETU - ...</td>\n",
       "      <td>Non AC Seater (2+3)</td>\n",
       "      <td>Barasat (West Be...</td>\n",
       "      <td>Nimtouri</td>\n",
       "      <td>93.0</td>\n",
       "      <td>BARASAT</td>\n",
       "      <td>NIMTOURI</td>\n",
       "      <td>49 Seats available</td>\n",
       "      <td>11:15</td>\n",
       "      <td>00:00</td>\n",
       "      <td>12:45</td>\n",
       "      <td>3.6</td>\n",
       "      <td>https://www.redbus.in/bus-tickets/barasat-west...</td>\n",
       "    </tr>\n",
       "    <tr>\n",
       "      <th>398</th>\n",
       "      <td>WBTC (CTC) Habra- Barasat- Haldia - 180|07:10</td>\n",
       "      <td>Non AC Seater (2+3)</td>\n",
       "      <td>Barasat (West Be...</td>\n",
       "      <td>Nimtouri</td>\n",
       "      <td>82.0</td>\n",
       "      <td>Champadally</td>\n",
       "      <td>Nimtouri</td>\n",
       "      <td>1 Seat available</td>\n",
       "      <td>07:10</td>\n",
       "      <td>08:45</td>\n",
       "      <td>01:35</td>\n",
       "      <td>4.6</td>\n",
       "      <td>https://www.redbus.in/bus-tickets/barasat-west...</td>\n",
       "    </tr>\n",
       "    <tr>\n",
       "      <th>399</th>\n",
       "      <td>WBTC (CTC) Habra-Midnapur - 194|05:25</td>\n",
       "      <td>Non AC Seater (2+3)</td>\n",
       "      <td>Habra</td>\n",
       "      <td>Midnapore</td>\n",
       "      <td>138.0</td>\n",
       "      <td>Habra</td>\n",
       "      <td>Midnapur</td>\n",
       "      <td>35 Seats available</td>\n",
       "      <td>05:25</td>\n",
       "      <td>09:35</td>\n",
       "      <td>04:10</td>\n",
       "      <td>4.5</td>\n",
       "      <td>https://www.redbus.in/bus-tickets/habra-to-mid...</td>\n",
       "    </tr>\n",
       "    <tr>\n",
       "      <th>400</th>\n",
       "      <td>WBTC (CTC) Habra-Midnapur - 194|05:55</td>\n",
       "      <td>Non AC Seater (2+3)</td>\n",
       "      <td>Habra</td>\n",
       "      <td>Midnapore</td>\n",
       "      <td>138.0</td>\n",
       "      <td>Habra</td>\n",
       "      <td>Midnapur</td>\n",
       "      <td>34 Seats available</td>\n",
       "      <td>05:55</td>\n",
       "      <td>10:15</td>\n",
       "      <td>04:20</td>\n",
       "      <td>4.3</td>\n",
       "      <td>https://www.redbus.in/bus-tickets/habra-to-mid...</td>\n",
       "    </tr>\n",
       "    <tr>\n",
       "      <th>401</th>\n",
       "      <td>SBSTC-HABRA - MIDNAPUR - 06:20 (MID DEPOT) - 1398</td>\n",
       "      <td>Non AC Seater (2+3)</td>\n",
       "      <td>Habra</td>\n",
       "      <td>Midnapore</td>\n",
       "      <td>143.0</td>\n",
       "      <td>HABRA</td>\n",
       "      <td>MIDNAPUR</td>\n",
       "      <td>40 Seats available</td>\n",
       "      <td>06:20</td>\n",
       "      <td>00:00</td>\n",
       "      <td>17:40</td>\n",
       "      <td>3.8</td>\n",
       "      <td>https://www.redbus.in/bus-tickets/habra-to-mid...</td>\n",
       "    </tr>\n",
       "  </tbody>\n",
       "</table>\n",
       "<p>3667 rows × 13 columns</p>\n",
       "</div>"
      ],
      "text/plain": [
       "                                              Bus_Name  \\\n",
       "0                                        APSRTC - 2561   \n",
       "1                                        APSRTC - 2674   \n",
       "2                                        APSRTC - 3366   \n",
       "3                                        APSRTC - 3360   \n",
       "4                                        APSRTC - 2575   \n",
       "..                                                 ...   \n",
       "397  SBSTC-BARASAT - DIGHA - VIA - NIBEDITA SETU - ...   \n",
       "398      WBTC (CTC) Habra- Barasat- Haldia - 180|07:10   \n",
       "399              WBTC (CTC) Habra-Midnapur - 194|05:25   \n",
       "400              WBTC (CTC) Habra-Midnapur - 194|05:55   \n",
       "401  SBSTC-HABRA - MIDNAPUR - 06:20 (MID DEPOT) - 1398   \n",
       "\n",
       "                                       Bus_Type           Start_From  \\\n",
       "0                            INDRA(A.C. Seater)            Hyderabad   \n",
       "1        SUPER LUXURY (NON-AC, 2 + 2 PUSH BACK)            Hyderabad   \n",
       "2        SUPER LUXURY (NON-AC, 2 + 2 PUSH BACK)            Hyderabad   \n",
       "3    AMARAVATHI (VOLVO / SCANIA A.C Multi Axle)            Hyderabad   \n",
       "4              NIGHT RIDER (SEATER CUM SLEEPER)            Hyderabad   \n",
       "..                                          ...                  ...   \n",
       "397                         Non AC Seater (2+3)  Barasat (West Be...   \n",
       "398                         Non AC Seater (2+3)  Barasat (West Be...   \n",
       "399                         Non AC Seater (2+3)                Habra   \n",
       "400                         Non AC Seater (2+3)                Habra   \n",
       "401                         Non AC Seater (2+3)                Habra   \n",
       "\n",
       "    Destination  Price            Starting_Point   Ending_Point  \\\n",
       "0    Vijayawada  528.0  Central Bus Station (CBS  Rtc bus stand   \n",
       "1    Vijayawada  436.0                Jeedimetla  Rtc bus stand   \n",
       "2    Vijayawada  436.0                Kukatpally  Rtc bus stand   \n",
       "3    Vijayawada  670.0                Kukatpally  Rtc bus stand   \n",
       "4    Vijayawada  595.0                Kukatpally  Rtc bus stand   \n",
       "..          ...    ...                       ...            ...   \n",
       "397    Nimtouri   93.0                   BARASAT       NIMTOURI   \n",
       "398    Nimtouri   82.0               Champadally       Nimtouri   \n",
       "399   Midnapore  138.0                     Habra       Midnapur   \n",
       "400   Midnapore  138.0                     Habra       Midnapur   \n",
       "401   Midnapore  143.0                     HABRA       MIDNAPUR   \n",
       "\n",
       "         Seat_Available Start_Time Reach_Time Total_Travel_Time  Bus_Rating  \\\n",
       "0    22 Seats available      17:15      22:45             05:30         3.4   \n",
       "1    17 Seats available      17:30      01:20             07:50         3.2   \n",
       "2    25 Seats available      17:55      01:45             07:50         2.4   \n",
       "3    40 Seats available      18:25      01:30             07:05         2.6   \n",
       "4    27 Seats available      18:55      01:15             06:20         3.8   \n",
       "..                  ...        ...        ...               ...         ...   \n",
       "397  49 Seats available      11:15      00:00             12:45         3.6   \n",
       "398    1 Seat available      07:10      08:45             01:35         4.6   \n",
       "399  35 Seats available      05:25      09:35             04:10         4.5   \n",
       "400  34 Seats available      05:55      10:15             04:20         4.3   \n",
       "401  40 Seats available      06:20      00:00             17:40         3.8   \n",
       "\n",
       "                                                 Links  \n",
       "0    https://www.redbus.in/bus-tickets/hyderabad-to...  \n",
       "1    https://www.redbus.in/bus-tickets/hyderabad-to...  \n",
       "2    https://www.redbus.in/bus-tickets/hyderabad-to...  \n",
       "3    https://www.redbus.in/bus-tickets/hyderabad-to...  \n",
       "4    https://www.redbus.in/bus-tickets/hyderabad-to...  \n",
       "..                                                 ...  \n",
       "397  https://www.redbus.in/bus-tickets/barasat-west...  \n",
       "398  https://www.redbus.in/bus-tickets/barasat-west...  \n",
       "399  https://www.redbus.in/bus-tickets/habra-to-mid...  \n",
       "400  https://www.redbus.in/bus-tickets/habra-to-mid...  \n",
       "401  https://www.redbus.in/bus-tickets/habra-to-mid...  \n",
       "\n",
       "[3667 rows x 13 columns]"
      ]
     },
     "execution_count": 63,
     "metadata": {},
     "output_type": "execute_result"
    }
   ],
   "source": [
    "df"
   ]
  },
  {
   "cell_type": "code",
   "execution_count": 64,
   "metadata": {},
   "outputs": [],
   "source": [
    "df.to_csv(\"Bus_Detail_Analysing.csv\",index=False)"
   ]
  },
  {
   "cell_type": "code",
   "execution_count": 11,
   "metadata": {},
   "outputs": [],
   "source": [
    "import pandas as pd\n",
    "\n",
    "# Assuming df is your DataFrame\n",
    "df['Start_Time'] = pd.to_datetime(df['Start_Time'], format='%H:%M')\n",
    "df['Reach_Time'] = pd.to_datetime(df['Reach_Time'], format='%H:%M')\n",
    "\n",
    "# Clean the Total_Travel_Time column\n",
    "df['Total_Travel_Time'] = pd.to_numeric(df['Total_Travel_Time'], errors='coerce')\n",
    "df.dropna(subset=['Total_Travel_Time'], inplace=True)\n",
    "\n",
    "# Convert the Total_Travel_Time column to timedelta format\n",
    "df['Total_Travel_Time'] = pd.to_timedelta(df['Total_Travel_Time'], unit='m')\n",
    "\n",
    "# Convert the time columns to time format\n",
    "df['Start_Time'] = df['Start_Time'].dt.time\n",
    "df['Reach_Time'] = df['Reach_Time'].dt.time"
   ]
  },
  {
   "cell_type": "code",
   "execution_count": 13,
   "metadata": {},
   "outputs": [],
   "source": [
    "import pandas as pd\n",
    "\n",
    "# Assuming df is your DataFrame\n",
    "df['Start_Time'] = pd.to_datetime(df['Start_Time'], format='%H:%M').dt.time\n",
    "df['Reach_Time'] = pd.to_datetime(df['Reach_Time'], format='%H:%M').dt.time"
   ]
  },
  {
   "cell_type": "code",
   "execution_count": 14,
   "metadata": {},
   "outputs": [
    {
     "name": "stdout",
     "output_type": "stream",
     "text": [
      "<class 'pandas.core.frame.DataFrame'>\n",
      "Index: 0 entries\n",
      "Data columns (total 13 columns):\n",
      " #   Column             Non-Null Count  Dtype          \n",
      "---  ------             --------------  -----          \n",
      " 0   Bus_Name           0 non-null      object         \n",
      " 1   Bus_Type           0 non-null      object         \n",
      " 2   Start_From         0 non-null      object         \n",
      " 3   Destination        0 non-null      object         \n",
      " 4   Price              0 non-null      float64        \n",
      " 5   Starting_Point     0 non-null      object         \n",
      " 6   Ending_Point       0 non-null      object         \n",
      " 7   Seat_Available     0 non-null      object         \n",
      " 8   Start_Time         0 non-null      object         \n",
      " 9   Reach_Time         0 non-null      object         \n",
      " 10  Total_Travel_Time  0 non-null      timedelta64[ns]\n",
      " 11  Bus_Rating         0 non-null      object         \n",
      " 12  Links              0 non-null      object         \n",
      "dtypes: float64(1), object(11), timedelta64[ns](1)\n",
      "memory usage: 0.0+ bytes\n"
     ]
    }
   ],
   "source": [
    "df.info()"
   ]
  },
  {
   "cell_type": "code",
   "execution_count": 66,
   "metadata": {},
   "outputs": [],
   "source": [
    "import pandas as pd\n",
    "import mysql.connector\n",
    "\n",
    "# Establish a MySQL connection\n",
    "cnx = mysql.connector.connect(\n",
    "    host=\"localhost\",\n",
    "    port=3306,\n",
    "    user=\"root\",\n",
    "    password=\"Hari@4444\",\n",
    "    database=\"Bus\"\n",
    ")\n",
    "\n",
    "# Create a cursor object\n",
    "cursor = cnx.cursor()"
   ]
  },
  {
   "cell_type": "code",
   "execution_count": 67,
   "metadata": {},
   "outputs": [],
   "source": [
    "import pandas as pd\n",
    "bus_data = pd.read_csv(\"Bus_Detail_Analysing.csv\")  # Replace \"bus_data.csv\" with your file"
   ]
  },
  {
   "cell_type": "code",
   "execution_count": 21,
   "metadata": {},
   "outputs": [],
   "source": [
    "import pandas as pd\n",
    "import mysql.connector\n",
    "\n",
    "# Read the CSV file\n",
    "df = pd.read_csv('Bus_Detail_Analysing.csv')\n",
    "\n",
    "# Establish a connection to your MySQL database\n",
    "cnx = mysql.connector.connect(\n",
    "    host=\"localhost\",\n",
    "    port=3306,\n",
    "    user=\"root\",\n",
    "    password=\"Hari@4444\",\n",
    "    database=\"redbus\"\n",
    ")\n",
    "\n",
    "# Create a cursor object\n",
    "cursor = cnx.cursor()\n",
    "\n",
    "create_table_query = \"\"\"\n",
    "CREATE TABLE bus_detail (\n",
    "    Bus_Name VARCHAR(255),\n",
    "    Bus_Type VARCHAR(255),\n",
    "    DepartureCity VARCHAR(255),\n",
    "    Destination VARCHAR(255),\n",
    "    Price DECIMAL(10, 2),\n",
    "    Starting_Point VARCHAR(255),\n",
    "    Ending_Point VARCHAR(255),\n",
    "    Seat_Available VARCHAR(255),\n",
    "    Start_Time VARCHAR(255),\n",
    "    Reach_Time VARCHAR(255),\n",
    "    Total_Travel_Time VARCHAR(255),\n",
    "    Bus_Rating DECIMAL(10, 2),\n",
    "    Links VARCHAR(255)\n",
    ")\n",
    "\"\"\"\n",
    "cursor.execute(create_table_query)\n",
    "cnx.commit()\n",
    "\n",
    "\n",
    "# Insert the data into the MySQL table\n",
    "for index, row in df.iterrows():\n",
    "    insert_query = \"\"\"\n",
    "    INSERT INTO bus_detail (\n",
    "        Bus_Name, Bus_Type, DepartureCity, Destination, Price, Starting_Point, \n",
    "        Ending_Point, Seat_Available, Start_Time, Reach_Time, Total_Travel_Time, \n",
    "        Bus_Rating, Links\n",
    "    ) VALUES (%s, %s, %s, %s, %s, %s, %s, %s, %s, %s, %s, %s, %s)\n",
    "    \"\"\"\n",
    "    cursor.execute(insert_query, tuple(row))\n",
    "\n",
    "# Commit the changes\n",
    "cnx.commit()\n",
    "\n",
    "# Close the MySQL connection\n",
    "cursor.close()\n",
    "cnx.close()"
   ]
  },
  {
   "cell_type": "code",
   "execution_count": 79,
   "metadata": {},
   "outputs": [
    {
     "data": {
      "text/plain": [
       "np.float64(608.221722836344)"
      ]
     },
     "execution_count": 79,
     "metadata": {},
     "output_type": "execute_result"
    }
   ],
   "source": [
    "df['Price'].mean()"
   ]
  },
  {
   "cell_type": "code",
   "execution_count": 80,
   "metadata": {},
   "outputs": [
    {
     "data": {
      "text/plain": [
       "82.0"
      ]
     },
     "execution_count": 80,
     "metadata": {},
     "output_type": "execute_result"
    }
   ],
   "source": [
    "min(df['Price'])"
   ]
  },
  {
   "cell_type": "code",
   "execution_count": 81,
   "metadata": {},
   "outputs": [
    {
     "data": {
      "text/plain": [
       "1.0"
      ]
     },
     "execution_count": 81,
     "metadata": {},
     "output_type": "execute_result"
    }
   ],
   "source": [
    "min(df['Bus Rating'])"
   ]
  },
  {
   "cell_type": "code",
   "execution_count": 82,
   "metadata": {},
   "outputs": [
    {
     "data": {
      "text/plain": [
       "5.0"
      ]
     },
     "execution_count": 82,
     "metadata": {},
     "output_type": "execute_result"
    }
   ],
   "source": [
    "max(df['Bus Rating'])"
   ]
  }
 ],
 "metadata": {
  "kernelspec": {
   "display_name": "Python 3",
   "language": "python",
   "name": "python3"
  },
  "language_info": {
   "codemirror_mode": {
    "name": "ipython",
    "version": 3
   },
   "file_extension": ".py",
   "mimetype": "text/x-python",
   "name": "python",
   "nbconvert_exporter": "python",
   "pygments_lexer": "ipython3",
   "version": "3.12.5"
  }
 },
 "nbformat": 4,
 "nbformat_minor": 2
}
